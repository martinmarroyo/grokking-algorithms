{
 "cells": [
  {
   "cell_type": "code",
   "execution_count": 1,
   "id": "230f4de5",
   "metadata": {
    "_cell_guid": "b1076dfc-b9ad-4769-8c92-a6c4dae69d19",
    "_uuid": "8f2839f25d086af736a60e9eeb907d3b93b6e0e5",
    "execution": {
     "iopub.execute_input": "2022-05-31T11:23:42.411235Z",
     "iopub.status.busy": "2022-05-31T11:23:42.410501Z",
     "iopub.status.idle": "2022-05-31T11:23:42.421831Z",
     "shell.execute_reply": "2022-05-31T11:23:42.421141Z"
    },
    "papermill": {
     "duration": 0.024927,
     "end_time": "2022-05-31T11:23:42.424499",
     "exception": false,
     "start_time": "2022-05-31T11:23:42.399572",
     "status": "completed"
    },
    "tags": []
   },
   "outputs": [],
   "source": [
    "# This Python 3 environment comes with many helpful analytics libraries installed\n",
    "# It is defined by the kaggle/python Docker image: https://github.com/kaggle/docker-python\n",
    "# For example, here's several helpful packages to load\n",
    "\n",
    "import numpy as np # linear algebra\n",
    "import pandas as pd # data processing, CSV file I/O (e.g. pd.read_csv)\n",
    "\n",
    "# Input data files are available in the read-only \"../input/\" directory\n",
    "# For example, running this (by clicking run or pressing Shift+Enter) will list all files under the input directory\n",
    "\n",
    "import os\n",
    "for dirname, _, filenames in os.walk('/kaggle/input'):\n",
    "    for filename in filenames:\n",
    "        print(os.path.join(dirname, filename))\n",
    "\n",
    "# You can write up to 20GB to the current directory (/kaggle/working/) that gets preserved as output when you create a version using \"Save & Run All\" \n",
    "# You can also write temporary files to /kaggle/temp/, but they won't be saved outside of the current session"
   ]
  },
  {
   "cell_type": "markdown",
   "id": "028d704c",
   "metadata": {
    "papermill": {
     "duration": 0.005293,
     "end_time": "2022-05-31T11:23:42.435620",
     "exception": false,
     "start_time": "2022-05-31T11:23:42.430327",
     "status": "completed"
    },
    "tags": []
   },
   "source": [
    "## Binary Search"
   ]
  },
  {
   "cell_type": "code",
   "execution_count": 2,
   "id": "6eea8010",
   "metadata": {
    "execution": {
     "iopub.execute_input": "2022-05-31T11:23:42.448356Z",
     "iopub.status.busy": "2022-05-31T11:23:42.447946Z",
     "iopub.status.idle": "2022-05-31T11:23:42.454680Z",
     "shell.execute_reply": "2022-05-31T11:23:42.453831Z"
    },
    "papermill": {
     "duration": 0.015179,
     "end_time": "2022-05-31T11:23:42.456534",
     "exception": false,
     "start_time": "2022-05-31T11:23:42.441355",
     "status": "completed"
    },
    "tags": []
   },
   "outputs": [],
   "source": [
    "def binary_search(arr, item):\n",
    "    \"\"\"\n",
    "    Performs a binary search on the given\n",
    "    array and returns the position where it was found\n",
    "    O(log n) runtime\n",
    "    \"\"\"\n",
    "    arr = sorted(arr)\n",
    "    low, high = (0,len(arr)-1)\n",
    "    while low <= high:\n",
    "        mid = low + high\n",
    "        if arr[mid] == item:\n",
    "            return mid\n",
    "        if arr[mid] < item:\n",
    "            low = mid+1\n",
    "        else:\n",
    "            high = mid-1\n",
    "    return None"
   ]
  },
  {
   "cell_type": "code",
   "execution_count": 3,
   "id": "e7ba4de7",
   "metadata": {
    "execution": {
     "iopub.execute_input": "2022-05-31T11:23:42.469485Z",
     "iopub.status.busy": "2022-05-31T11:23:42.468610Z",
     "iopub.status.idle": "2022-05-31T11:23:42.473522Z",
     "shell.execute_reply": "2022-05-31T11:23:42.472815Z"
    },
    "papermill": {
     "duration": 0.013442,
     "end_time": "2022-05-31T11:23:42.475465",
     "exception": false,
     "start_time": "2022-05-31T11:23:42.462023",
     "status": "completed"
    },
    "tags": []
   },
   "outputs": [],
   "source": [
    "# Test\n",
    "assert binary_search([3,2,1,4],2) == 1 # Returning the position of where we found the item\n",
    "assert binary_search([1,2,3,4],5) == None"
   ]
  },
  {
   "cell_type": "markdown",
   "id": "7d180c3e",
   "metadata": {
    "papermill": {
     "duration": 0.005446,
     "end_time": "2022-05-31T11:23:42.486672",
     "exception": false,
     "start_time": "2022-05-31T11:23:42.481226",
     "status": "completed"
    },
    "tags": []
   },
   "source": [
    "## Selection Sort"
   ]
  },
  {
   "cell_type": "code",
   "execution_count": 4,
   "id": "9fc4010f",
   "metadata": {
    "execution": {
     "iopub.execute_input": "2022-05-31T11:23:42.499525Z",
     "iopub.status.busy": "2022-05-31T11:23:42.498946Z",
     "iopub.status.idle": "2022-05-31T11:23:42.505717Z",
     "shell.execute_reply": "2022-05-31T11:23:42.505057Z"
    },
    "papermill": {
     "duration": 0.015525,
     "end_time": "2022-05-31T11:23:42.507682",
     "exception": false,
     "start_time": "2022-05-31T11:23:42.492157",
     "status": "completed"
    },
    "tags": []
   },
   "outputs": [],
   "source": [
    "def selection_sort(arr):\n",
    "    \"\"\"\n",
    "    Sorts the given array in ascending order\n",
    "    using the Selection Sort algorithm \n",
    "    O(n^2) runtime\n",
    "    \"\"\"\n",
    "    input_array = arr\n",
    "    sorted_array = []\n",
    "    for elem in range(0,len(input_array)):\n",
    "        smallest = find_min(input_array)\n",
    "        sorted_array.append(input_array.pop(smallest))\n",
    "    return sorted_array\n",
    "        \n",
    "    \n",
    "def find_min(arr):\n",
    "    smallest = arr[0]\n",
    "    idx = 0\n",
    "    for i,elem in enumerate(arr):\n",
    "        if elem < smallest:\n",
    "            smallest = elem\n",
    "            idx = i\n",
    "    return idx"
   ]
  },
  {
   "cell_type": "code",
   "execution_count": 5,
   "id": "1a7989a8",
   "metadata": {
    "execution": {
     "iopub.execute_input": "2022-05-31T11:23:42.520434Z",
     "iopub.status.busy": "2022-05-31T11:23:42.519871Z",
     "iopub.status.idle": "2022-05-31T11:23:42.525127Z",
     "shell.execute_reply": "2022-05-31T11:23:42.524397Z"
    },
    "papermill": {
     "duration": 0.013795,
     "end_time": "2022-05-31T11:23:42.526992",
     "exception": false,
     "start_time": "2022-05-31T11:23:42.513197",
     "status": "completed"
    },
    "tags": []
   },
   "outputs": [],
   "source": [
    "assert selection_sort([3,2,1,4]) == [1,2,3,4]\n",
    "assert find_min([3,2,1,4]) == 2\n",
    "assert find_min([3,1,2]) == 1"
   ]
  },
  {
   "cell_type": "markdown",
   "id": "7cc750ca",
   "metadata": {
    "papermill": {
     "duration": 0.00531,
     "end_time": "2022-05-31T11:23:42.537692",
     "exception": false,
     "start_time": "2022-05-31T11:23:42.532382",
     "status": "completed"
    },
    "tags": []
   },
   "source": [
    "## Recursion"
   ]
  },
  {
   "cell_type": "code",
   "execution_count": 6,
   "id": "aab58d79",
   "metadata": {
    "execution": {
     "iopub.execute_input": "2022-05-31T11:23:42.550612Z",
     "iopub.status.busy": "2022-05-31T11:23:42.550065Z",
     "iopub.status.idle": "2022-05-31T11:23:42.558917Z",
     "shell.execute_reply": "2022-05-31T11:23:42.558251Z"
    },
    "papermill": {
     "duration": 0.017601,
     "end_time": "2022-05-31T11:23:42.560879",
     "exception": false,
     "start_time": "2022-05-31T11:23:42.543278",
     "status": "completed"
    },
    "tags": []
   },
   "outputs": [],
   "source": [
    "def countdown(n):\n",
    "    if n == 0:\n",
    "        print(\"Blast-off!\")\n",
    "    else:\n",
    "        print(n)\n",
    "        countdown(n-1)\n",
    "        \n",
    "def fibonnaci(n):\n",
    "    if n == 0:\n",
    "        return 0\n",
    "    if n == 1:\n",
    "        return 1\n",
    "    return fibonnaci(n-1) + fibonnaci(n-2)\n",
    "\n",
    "def my_sum(arr:list):\n",
    "    if len(arr) == 0:\n",
    "        return 0\n",
    "    if len(arr) == 1:\n",
    "        return arr[0]\n",
    "    return arr[0] + my_sum(arr[1:])\n",
    "\n",
    "def my_max(arr:list):\n",
    "    if len(arr) == 0:\n",
    "        return 0\n",
    "    if len(arr) == 1:\n",
    "        return arr[0]\n",
    "    if arr[0] > my_max(arr[1:]):\n",
    "        return arr[0]\n",
    "    return my_max(arr[1:])"
   ]
  },
  {
   "cell_type": "code",
   "execution_count": 7,
   "id": "898588dc",
   "metadata": {
    "execution": {
     "iopub.execute_input": "2022-05-31T11:23:42.574072Z",
     "iopub.status.busy": "2022-05-31T11:23:42.573509Z",
     "iopub.status.idle": "2022-05-31T11:23:42.582696Z",
     "shell.execute_reply": "2022-05-31T11:23:42.581800Z"
    },
    "papermill": {
     "duration": 0.018844,
     "end_time": "2022-05-31T11:23:42.585354",
     "exception": false,
     "start_time": "2022-05-31T11:23:42.566510",
     "status": "completed"
    },
    "tags": []
   },
   "outputs": [
    {
     "name": "stdout",
     "output_type": "stream",
     "text": [
      "10\n",
      "9\n",
      "8\n",
      "7\n",
      "6\n",
      "5\n",
      "4\n",
      "3\n",
      "2\n",
      "1\n",
      "Blast-off!\n"
     ]
    }
   ],
   "source": [
    "assert fibonnaci(0) == 0\n",
    "assert fibonnaci(1) == 1\n",
    "assert fibonnaci(2) == 1\n",
    "assert fibonnaci(3) == 2\n",
    "assert fibonnaci(4) == 3\n",
    "assert fibonnaci(5) == 5\n",
    "assert fibonnaci(6) == 8\n",
    "assert my_sum([1,2,3]) == 6\n",
    "assert my_sum([1]) == 1\n",
    "assert my_sum([]) == 0\n",
    "assert my_max([1,2,3]) == 3\n",
    "assert my_max([3,2,1]) == 3\n",
    "assert my_max([2,3,1]) == 3\n",
    "assert my_max([2,1]) == 2\n",
    "assert my_max([1]) == 1\n",
    "assert my_max([]) == 0\n",
    "countdown(10)"
   ]
  },
  {
   "cell_type": "markdown",
   "id": "33c79f1d",
   "metadata": {
    "papermill": {
     "duration": 0.005308,
     "end_time": "2022-05-31T11:23:42.596344",
     "exception": false,
     "start_time": "2022-05-31T11:23:42.591036",
     "status": "completed"
    },
    "tags": []
   },
   "source": []
  },
  {
   "cell_type": "markdown",
   "id": "91f13440",
   "metadata": {
    "papermill": {
     "duration": 0.005261,
     "end_time": "2022-05-31T11:23:42.607507",
     "exception": false,
     "start_time": "2022-05-31T11:23:42.602246",
     "status": "completed"
    },
    "tags": []
   },
   "source": [
    "## Quicksort"
   ]
  },
  {
   "cell_type": "code",
   "execution_count": 8,
   "id": "ff7b2a7b",
   "metadata": {
    "execution": {
     "iopub.execute_input": "2022-05-31T11:23:42.620603Z",
     "iopub.status.busy": "2022-05-31T11:23:42.620017Z",
     "iopub.status.idle": "2022-05-31T11:23:42.627515Z",
     "shell.execute_reply": "2022-05-31T11:23:42.626732Z"
    },
    "papermill": {
     "duration": 0.016464,
     "end_time": "2022-05-31T11:23:42.629572",
     "exception": false,
     "start_time": "2022-05-31T11:23:42.613108",
     "status": "completed"
    },
    "tags": []
   },
   "outputs": [],
   "source": [
    "def quicksort(arr):\n",
    "    \"\"\"\n",
    "    Sorts the given array in ascending order\n",
    "    using the Quicksort algorithm.\n",
    "    O(n log n) runtime \n",
    "    \"\"\"\n",
    "    arr_len = len(arr)\n",
    "    if arr_len < 2:\n",
    "        return arr\n",
    "    if arr_len == 2:\n",
    "        if arr[0] < arr[1]:\n",
    "            return arr\n",
    "        return arr[::-1]\n",
    "    pivot = arr[arr_len // 2]\n",
    "    left = [elem for elem in arr if elem < pivot]\n",
    "    right = [elem for elem in arr if elem > pivot]\n",
    "    return quicksort(left) + \\\n",
    "           [pivot] + quicksort(right)\n"
   ]
  },
  {
   "cell_type": "code",
   "execution_count": 9,
   "id": "ce1265e5",
   "metadata": {
    "execution": {
     "iopub.execute_input": "2022-05-31T11:23:42.643380Z",
     "iopub.status.busy": "2022-05-31T11:23:42.642764Z",
     "iopub.status.idle": "2022-05-31T11:23:42.649564Z",
     "shell.execute_reply": "2022-05-31T11:23:42.648807Z"
    },
    "papermill": {
     "duration": 0.016194,
     "end_time": "2022-05-31T11:23:42.651548",
     "exception": false,
     "start_time": "2022-05-31T11:23:42.635354",
     "status": "completed"
    },
    "tags": []
   },
   "outputs": [],
   "source": [
    "assert quicksort([3,2,1,4]) == [1,2,3,4]\n",
    "assert quicksort([1,10,9,6,7,5,3,2,4,8]) == [1,2,3,4,5,6,7,8,9,10]\n",
    "assert quicksort([1,2]) == [1,2]\n",
    "assert quicksort([1]) == [1]\n",
    "assert quicksort([]) == []"
   ]
  },
  {
   "cell_type": "markdown",
   "id": "a661aba5",
   "metadata": {
    "papermill": {
     "duration": 0.005288,
     "end_time": "2022-05-31T11:23:42.662836",
     "exception": false,
     "start_time": "2022-05-31T11:23:42.657548",
     "status": "completed"
    },
    "tags": []
   },
   "source": [
    "## Breadth First Search (BFS)"
   ]
  },
  {
   "cell_type": "code",
   "execution_count": 10,
   "id": "bde4a844",
   "metadata": {
    "execution": {
     "iopub.execute_input": "2022-05-31T11:23:42.675969Z",
     "iopub.status.busy": "2022-05-31T11:23:42.675377Z",
     "iopub.status.idle": "2022-05-31T11:23:42.686600Z",
     "shell.execute_reply": "2022-05-31T11:23:42.685965Z"
    },
    "papermill": {
     "duration": 0.020093,
     "end_time": "2022-05-31T11:23:42.688534",
     "exception": false,
     "start_time": "2022-05-31T11:23:42.668441",
     "status": "completed"
    },
    "tags": []
   },
   "outputs": [],
   "source": [
    "coop = {\n",
    "    \"Martin\": [\"Yoana\", \"Jasmine\", \"Veronika\", \"Maritza\"],\n",
    "    \"Veronika\": [\"Yoana\", \"Jasmine\", \"Martin\", \"Maritza\"],\n",
    "    \"Maritza\": [\n",
    "        \"Headquarters\",\"Yoana\", \"Jasmine\", \n",
    "        \"Veronika\",\"Martin\",\"Jamin\",\"Chris\"\n",
    "    ],\n",
    "    \"Jasmine\": [\"Yoana\", \"Veronika\", \"Martin\", \"Maritza\"],\n",
    "    \"Yoana\": [\"Jasmine\", \"Veronika\", \"Martin\", \"Maritza\"],\n",
    "    \"Headquarters\": [\"Maritza\", \"Chris\", \"Jamin\"],\n",
    "    \"Jamin\": [\"Maritza\", \"Chris\", \"Headquarters\"],\n",
    "    \"Chris\": [\"Maritza\", \"Jamin\", \"Headquarters\"]\n",
    "}\n",
    "\n",
    "cg = {\n",
    "    \"Martin\": [\"Oren\", \"Subrina\"],\n",
    "    \"Oren\": [\"Aaron\", \"Justin\",\"Subrina\",\"Martin\"],\n",
    "    \"Aaron\": [\"Oren\", \"Justin\",\"Haley\"],\n",
    "    \"Subrina\": [\"Oren\", \"Martin\"],\n",
    "    \"Justin\": [\"Aaron\", \"Oren\", \"Jeff\"],\n",
    "    \"Haley\": [\"Aaron\", \"Jeff\"],\n",
    "    \"Jeff\": [\"Haley\", \"Justin\", \"Stephen\"],\n",
    "    \"Jack\": [],\n",
    "    \"Stephen\": [\"Jeff\"]\n",
    "}\n",
    "# Is there a connection between start node and target? If yes, which node is the closest mutual connection\n",
    "def graph_bfs(graph:dict, start_node:str, target:str):\n",
    "    \"\"\"\n",
    "    Breadth First traversal of a graph\n",
    "    \"\"\"\n",
    "    search_queue = graph[start_node].copy()\n",
    "    checked = [start_node]\n",
    "    while search_queue:\n",
    "        person = search_queue.pop(0)\n",
    "        # Check if target is any of the connected nodes\n",
    "        if target in search_queue:\n",
    "            return (True, checked[len(checked)-1]) # If yes, return the last checked node\n",
    "        # Otherwise, add their friends to the search and keep going\n",
    "        if person not in checked:\n",
    "            search_queue += graph[person] # Add their friends to check their list\n",
    "            checked.append(person)\n",
    "    return (False, -1)\n",
    "            "
   ]
  },
  {
   "cell_type": "code",
   "execution_count": 11,
   "id": "26164f77",
   "metadata": {
    "execution": {
     "iopub.execute_input": "2022-05-31T11:23:42.701442Z",
     "iopub.status.busy": "2022-05-31T11:23:42.700854Z",
     "iopub.status.idle": "2022-05-31T11:23:42.707801Z",
     "shell.execute_reply": "2022-05-31T11:23:42.706846Z"
    },
    "papermill": {
     "duration": 0.016061,
     "end_time": "2022-05-31T11:23:42.710184",
     "exception": false,
     "start_time": "2022-05-31T11:23:42.694123",
     "status": "completed"
    },
    "tags": []
   },
   "outputs": [],
   "source": [
    "assert graph_bfs(coop, \"Martin\", \"Veronika\") == (True, \"Martin\")\n",
    "assert graph_bfs(coop, \"Martin\", \"Headquarters\") == (True, \"Maritza\")\n",
    "assert graph_bfs(coop, \"Martin\", \"Maritza\") == (True, \"Martin\")\n",
    "assert graph_bfs(coop, \"Martin\", \"Not in Graph\") == (False, -1)\n",
    "assert graph_bfs(cg,\"Martin\", \"Aaron\") == (True, \"Oren\")\n",
    "assert graph_bfs(cg,\"Martin\", \"Jack\") == (False, -1)"
   ]
  },
  {
   "cell_type": "code",
   "execution_count": 12,
   "id": "d8411a63",
   "metadata": {
    "execution": {
     "iopub.execute_input": "2022-05-31T11:23:42.724405Z",
     "iopub.status.busy": "2022-05-31T11:23:42.723734Z",
     "iopub.status.idle": "2022-05-31T11:23:42.737860Z",
     "shell.execute_reply": "2022-05-31T11:23:42.736841Z"
    },
    "papermill": {
     "duration": 0.023338,
     "end_time": "2022-05-31T11:23:42.739920",
     "exception": false,
     "start_time": "2022-05-31T11:23:42.716582",
     "status": "completed"
    },
    "tags": []
   },
   "outputs": [
    {
     "name": "stdout",
     "output_type": "stream",
     "text": [
      "thom is a mango seller!\n"
     ]
    },
    {
     "data": {
      "text/plain": [
       "True"
      ]
     },
     "execution_count": 12,
     "metadata": {},
     "output_type": "execute_result"
    }
   ],
   "source": [
    "# Alternative implementation of BFS\n",
    "from collections import deque\n",
    "\n",
    "\n",
    "def person_is_seller(person):\n",
    "    \"\"\" Determines if person is a mango seller \"\"\"\n",
    "    return person[-1] == 'm'\n",
    "\n",
    "\n",
    "def bfs(graph):\n",
    "    \"\"\" BFS implementation\"\"\"\n",
    "    search_queue = deque()\n",
    "    search_queue += graph[\"you\"]\n",
    "    searched = []\n",
    "    while search_queue:\n",
    "        person = search_queue.popleft()\n",
    "        if person_is_seller(person):\n",
    "            print(person, \"is a mango seller!\")\n",
    "            return True\n",
    "        search_queue += graph[person]\n",
    "        searched.append(person)\n",
    "    return False\n",
    "\n",
    "graph = {\n",
    "    \"you\": [\"alice\", \"bob\", \"claire\"],\n",
    "    \"bob\": [\"anuj\", \"peggy\"],\n",
    "    \"alice\": [\"peggy\"],\n",
    "    \"claire\": [\"thom\", \"jonny\"],\n",
    "    \"anuj\": [],\n",
    "    \"peggy\": [],\n",
    "    \"thom\": [],\n",
    "    \"jonny\": []\n",
    "}\n",
    "\n",
    "bfs(graph)"
   ]
  },
  {
   "cell_type": "markdown",
   "id": "8141f70f",
   "metadata": {
    "papermill": {
     "duration": 0.00579,
     "end_time": "2022-05-31T11:23:42.751584",
     "exception": false,
     "start_time": "2022-05-31T11:23:42.745794",
     "status": "completed"
    },
    "tags": []
   },
   "source": [
    "## Dijkstra's Algorithm"
   ]
  },
  {
   "cell_type": "code",
   "execution_count": null,
   "id": "15bf4075",
   "metadata": {
    "papermill": {
     "duration": 0.00572,
     "end_time": "2022-05-31T11:23:42.763599",
     "exception": false,
     "start_time": "2022-05-31T11:23:42.757879",
     "status": "completed"
    },
    "tags": []
   },
   "outputs": [],
   "source": []
  }
 ],
 "metadata": {
  "kernelspec": {
   "display_name": "Python 3",
   "language": "python",
   "name": "python3"
  },
  "language_info": {
   "codemirror_mode": {
    "name": "ipython",
    "version": 3
   },
   "file_extension": ".py",
   "mimetype": "text/x-python",
   "name": "python",
   "nbconvert_exporter": "python",
   "pygments_lexer": "ipython3",
   "version": "3.7.12"
  },
  "papermill": {
   "default_parameters": {},
   "duration": 11.070181,
   "end_time": "2022-05-31T11:23:43.390443",
   "environment_variables": {},
   "exception": null,
   "input_path": "__notebook__.ipynb",
   "output_path": "__notebook__.ipynb",
   "parameters": {},
   "start_time": "2022-05-31T11:23:32.320262",
   "version": "2.3.4"
  }
 },
 "nbformat": 4,
 "nbformat_minor": 5
}
