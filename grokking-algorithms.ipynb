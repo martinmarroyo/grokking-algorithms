{
 "cells": [
  {
   "cell_type": "code",
   "execution_count": 1,
   "id": "548e912a",
   "metadata": {
    "_cell_guid": "b1076dfc-b9ad-4769-8c92-a6c4dae69d19",
    "_uuid": "8f2839f25d086af736a60e9eeb907d3b93b6e0e5",
    "execution": {
     "iopub.execute_input": "2022-05-26T15:41:50.977218Z",
     "iopub.status.busy": "2022-05-26T15:41:50.976530Z",
     "iopub.status.idle": "2022-05-26T15:41:50.988261Z",
     "shell.execute_reply": "2022-05-26T15:41:50.987537Z"
    },
    "papermill": {
     "duration": 0.021351,
     "end_time": "2022-05-26T15:41:50.990693",
     "exception": false,
     "start_time": "2022-05-26T15:41:50.969342",
     "status": "completed"
    },
    "tags": []
   },
   "outputs": [],
   "source": [
    "# This Python 3 environment comes with many helpful analytics libraries installed\n",
    "# It is defined by the kaggle/python Docker image: https://github.com/kaggle/docker-python\n",
    "# For example, here's several helpful packages to load\n",
    "\n",
    "import numpy as np # linear algebra\n",
    "import pandas as pd # data processing, CSV file I/O (e.g. pd.read_csv)\n",
    "\n",
    "# Input data files are available in the read-only \"../input/\" directory\n",
    "# For example, running this (by clicking run or pressing Shift+Enter) will list all files under the input directory\n",
    "\n",
    "import os\n",
    "for dirname, _, filenames in os.walk('/kaggle/input'):\n",
    "    for filename in filenames:\n",
    "        print(os.path.join(dirname, filename))\n",
    "\n",
    "# You can write up to 20GB to the current directory (/kaggle/working/) that gets preserved as output when you create a version using \"Save & Run All\" \n",
    "# You can also write temporary files to /kaggle/temp/, but they won't be saved outside of the current session"
   ]
  },
  {
   "cell_type": "markdown",
   "id": "1b754a40",
   "metadata": {
    "papermill": {
     "duration": 0.004247,
     "end_time": "2022-05-26T15:41:51.001931",
     "exception": false,
     "start_time": "2022-05-26T15:41:50.997684",
     "status": "completed"
    },
    "tags": []
   },
   "source": [
    "## Binary Search"
   ]
  },
  {
   "cell_type": "code",
   "execution_count": 2,
   "id": "6bae0bfe",
   "metadata": {
    "execution": {
     "iopub.execute_input": "2022-05-26T15:41:51.012592Z",
     "iopub.status.busy": "2022-05-26T15:41:51.011941Z",
     "iopub.status.idle": "2022-05-26T15:41:51.018453Z",
     "shell.execute_reply": "2022-05-26T15:41:51.017612Z"
    },
    "papermill": {
     "duration": 0.014247,
     "end_time": "2022-05-26T15:41:51.020651",
     "exception": false,
     "start_time": "2022-05-26T15:41:51.006404",
     "status": "completed"
    },
    "tags": []
   },
   "outputs": [],
   "source": [
    "def binary_search(arr, item):\n",
    "    \"\"\"\n",
    "    Performs a binary search on the given\n",
    "    array and returns the position where it was found\n",
    "    O(log n) runtime\n",
    "    \"\"\"\n",
    "    arr = sorted(arr)\n",
    "    low, high = (0,len(arr)-1)\n",
    "    while low <= high:\n",
    "        mid = low + high\n",
    "        if arr[mid] == item:\n",
    "            return mid\n",
    "        if arr[mid] < item:\n",
    "            low = mid+1\n",
    "        else:\n",
    "            high = mid-1\n",
    "    return None"
   ]
  },
  {
   "cell_type": "code",
   "execution_count": 3,
   "id": "445e2ef5",
   "metadata": {
    "execution": {
     "iopub.execute_input": "2022-05-26T15:41:51.031904Z",
     "iopub.status.busy": "2022-05-26T15:41:51.031249Z",
     "iopub.status.idle": "2022-05-26T15:41:51.035875Z",
     "shell.execute_reply": "2022-05-26T15:41:51.035145Z"
    },
    "papermill": {
     "duration": 0.012733,
     "end_time": "2022-05-26T15:41:51.037865",
     "exception": false,
     "start_time": "2022-05-26T15:41:51.025132",
     "status": "completed"
    },
    "tags": []
   },
   "outputs": [],
   "source": [
    "# Test\n",
    "assert binary_search([3,2,1,4],2) == 1 # Returning the position of where we found the item\n",
    "assert binary_search([1,2,3,4],5) == None"
   ]
  },
  {
   "cell_type": "markdown",
   "id": "ccb605b7",
   "metadata": {
    "papermill": {
     "duration": 0.004806,
     "end_time": "2022-05-26T15:41:51.047079",
     "exception": false,
     "start_time": "2022-05-26T15:41:51.042273",
     "status": "completed"
    },
    "tags": []
   },
   "source": [
    "## Selection Sort"
   ]
  },
  {
   "cell_type": "code",
   "execution_count": 4,
   "id": "a1f0c5ad",
   "metadata": {
    "execution": {
     "iopub.execute_input": "2022-05-26T15:41:51.057758Z",
     "iopub.status.busy": "2022-05-26T15:41:51.057106Z",
     "iopub.status.idle": "2022-05-26T15:41:51.063540Z",
     "shell.execute_reply": "2022-05-26T15:41:51.062806Z"
    },
    "papermill": {
     "duration": 0.014541,
     "end_time": "2022-05-26T15:41:51.066105",
     "exception": false,
     "start_time": "2022-05-26T15:41:51.051564",
     "status": "completed"
    },
    "tags": []
   },
   "outputs": [],
   "source": [
    "def selection_sort(arr):\n",
    "    \"\"\"\n",
    "    Sorts the given array in ascending order\n",
    "    using the Selection Sort algorithm \n",
    "    O(n^2) runtime\n",
    "    \"\"\"\n",
    "    input_array = arr\n",
    "    sorted_array = []\n",
    "    for elem in range(0,len(input_array)):\n",
    "        smallest = find_min(input_array)\n",
    "        sorted_array.append(input_array.pop(smallest))\n",
    "    return sorted_array\n",
    "        \n",
    "    \n",
    "def find_min(arr):\n",
    "    smallest = arr[0]\n",
    "    idx = 0\n",
    "    for i,elem in enumerate(arr):\n",
    "        if elem < smallest:\n",
    "            smallest = elem\n",
    "            idx = i\n",
    "    return idx"
   ]
  },
  {
   "cell_type": "code",
   "execution_count": 5,
   "id": "74d542bd",
   "metadata": {
    "execution": {
     "iopub.execute_input": "2022-05-26T15:41:51.077196Z",
     "iopub.status.busy": "2022-05-26T15:41:51.076480Z",
     "iopub.status.idle": "2022-05-26T15:41:51.081364Z",
     "shell.execute_reply": "2022-05-26T15:41:51.080618Z"
    },
    "papermill": {
     "duration": 0.012548,
     "end_time": "2022-05-26T15:41:51.083316",
     "exception": false,
     "start_time": "2022-05-26T15:41:51.070768",
     "status": "completed"
    },
    "tags": []
   },
   "outputs": [],
   "source": [
    "assert selection_sort([3,2,1,4]) == [1,2,3,4]\n",
    "assert find_min([3,2,1,4]) == 2\n",
    "assert find_min([3,1,2]) == 1"
   ]
  },
  {
   "cell_type": "markdown",
   "id": "015ed9ed",
   "metadata": {
    "papermill": {
     "duration": 0.004036,
     "end_time": "2022-05-26T15:41:51.091787",
     "exception": false,
     "start_time": "2022-05-26T15:41:51.087751",
     "status": "completed"
    },
    "tags": []
   },
   "source": [
    "## Recursion"
   ]
  },
  {
   "cell_type": "code",
   "execution_count": 6,
   "id": "5ba38376",
   "metadata": {
    "execution": {
     "iopub.execute_input": "2022-05-26T15:41:51.102405Z",
     "iopub.status.busy": "2022-05-26T15:41:51.101721Z",
     "iopub.status.idle": "2022-05-26T15:41:51.110144Z",
     "shell.execute_reply": "2022-05-26T15:41:51.109432Z"
    },
    "papermill": {
     "duration": 0.016246,
     "end_time": "2022-05-26T15:41:51.112304",
     "exception": false,
     "start_time": "2022-05-26T15:41:51.096058",
     "status": "completed"
    },
    "tags": []
   },
   "outputs": [],
   "source": [
    "def countdown(n):\n",
    "    if n == 0:\n",
    "        print(\"Blast-off!\")\n",
    "    else:\n",
    "        print(n)\n",
    "        countdown(n-1)\n",
    "        \n",
    "def fibonnaci(n):\n",
    "    if n == 0:\n",
    "        return 0\n",
    "    if n == 1:\n",
    "        return 1\n",
    "    return fibonnaci(n-1) + fibonnaci(n-2)\n",
    "\n",
    "def my_sum(arr:list):\n",
    "    if len(arr) == 0:\n",
    "        return 0\n",
    "    if len(arr) == 1:\n",
    "        return arr[0]\n",
    "    return arr[0] + my_sum(arr[1:])\n",
    "\n",
    "def my_max(arr:list):\n",
    "    if len(arr) == 0:\n",
    "        return 0\n",
    "    if len(arr) == 1:\n",
    "        return arr[0]\n",
    "    if arr[0] > my_max(arr[1:]):\n",
    "        return arr[0]\n",
    "    return my_max(arr[1:])"
   ]
  },
  {
   "cell_type": "code",
   "execution_count": 7,
   "id": "d1f365ee",
   "metadata": {
    "execution": {
     "iopub.execute_input": "2022-05-26T15:41:51.124769Z",
     "iopub.status.busy": "2022-05-26T15:41:51.124012Z",
     "iopub.status.idle": "2022-05-26T15:41:51.133810Z",
     "shell.execute_reply": "2022-05-26T15:41:51.132975Z"
    },
    "papermill": {
     "duration": 0.020113,
     "end_time": "2022-05-26T15:41:51.136950",
     "exception": false,
     "start_time": "2022-05-26T15:41:51.116837",
     "status": "completed"
    },
    "tags": []
   },
   "outputs": [
    {
     "name": "stdout",
     "output_type": "stream",
     "text": [
      "10\n",
      "9\n",
      "8\n",
      "7\n",
      "6\n",
      "5\n",
      "4\n",
      "3\n",
      "2\n",
      "1\n",
      "Blast-off!\n"
     ]
    }
   ],
   "source": [
    "assert fibonnaci(0) == 0\n",
    "assert fibonnaci(1) == 1\n",
    "assert fibonnaci(2) == 1\n",
    "assert fibonnaci(3) == 2\n",
    "assert fibonnaci(4) == 3\n",
    "assert fibonnaci(5) == 5\n",
    "assert fibonnaci(6) == 8\n",
    "assert my_sum([1,2,3]) == 6\n",
    "assert my_sum([1]) == 1\n",
    "assert my_sum([]) == 0\n",
    "assert my_max([1,2,3]) == 3\n",
    "assert my_max([3,2,1]) == 3\n",
    "assert my_max([2,3,1]) == 3\n",
    "assert my_max([2,1]) == 2\n",
    "assert my_max([1]) == 1\n",
    "assert my_max([]) == 0\n",
    "countdown(10)"
   ]
  },
  {
   "cell_type": "markdown",
   "id": "a255d2b6",
   "metadata": {
    "papermill": {
     "duration": 0.004183,
     "end_time": "2022-05-26T15:41:51.146758",
     "exception": false,
     "start_time": "2022-05-26T15:41:51.142575",
     "status": "completed"
    },
    "tags": []
   },
   "source": []
  },
  {
   "cell_type": "markdown",
   "id": "e9ad13b4",
   "metadata": {
    "papermill": {
     "duration": 0.004134,
     "end_time": "2022-05-26T15:41:51.155309",
     "exception": false,
     "start_time": "2022-05-26T15:41:51.151175",
     "status": "completed"
    },
    "tags": []
   },
   "source": [
    "## Quicksort"
   ]
  },
  {
   "cell_type": "code",
   "execution_count": 8,
   "id": "61d7d8f3",
   "metadata": {
    "execution": {
     "iopub.execute_input": "2022-05-26T15:41:51.166385Z",
     "iopub.status.busy": "2022-05-26T15:41:51.165727Z",
     "iopub.status.idle": "2022-05-26T15:41:51.172904Z",
     "shell.execute_reply": "2022-05-26T15:41:51.171956Z"
    },
    "papermill": {
     "duration": 0.015295,
     "end_time": "2022-05-26T15:41:51.174981",
     "exception": false,
     "start_time": "2022-05-26T15:41:51.159686",
     "status": "completed"
    },
    "tags": []
   },
   "outputs": [],
   "source": [
    "def quicksort(arr):\n",
    "    \"\"\"\n",
    "    Sorts the given array in ascending order\n",
    "    using the Quicksort algorithm\n",
    "    \"\"\"\n",
    "    arr_len = len(arr)\n",
    "    if arr_len < 2:\n",
    "        return arr\n",
    "    if arr_len == 2:\n",
    "        if arr[0] < arr[1]:\n",
    "            return arr\n",
    "        return arr[::-1]\n",
    "    pivot = arr[0]\n",
    "    left = []\n",
    "    right = []\n",
    "    for elem in arr:\n",
    "        if elem < pivot:\n",
    "            left.append(elem)\n",
    "        elif elem > pivot:\n",
    "            right.append(elem)\n",
    "    return quicksort(left) + \\\n",
    "           [pivot] + quicksort(right)\n"
   ]
  },
  {
   "cell_type": "code",
   "execution_count": 9,
   "id": "e52fce8f",
   "metadata": {
    "execution": {
     "iopub.execute_input": "2022-05-26T15:41:51.186019Z",
     "iopub.status.busy": "2022-05-26T15:41:51.185354Z",
     "iopub.status.idle": "2022-05-26T15:41:51.190658Z",
     "shell.execute_reply": "2022-05-26T15:41:51.189854Z"
    },
    "papermill": {
     "duration": 0.013074,
     "end_time": "2022-05-26T15:41:51.192647",
     "exception": false,
     "start_time": "2022-05-26T15:41:51.179573",
     "status": "completed"
    },
    "tags": []
   },
   "outputs": [],
   "source": [
    "assert quicksort([3,2,1,4]) == [1,2,3,4]\n",
    "assert quicksort([1,10,9,6,7,5,3,2,4,8]) == [1,2,3,4,5,6,7,8,9,10]"
   ]
  }
 ],
 "metadata": {
  "kernelspec": {
   "display_name": "Python 3",
   "language": "python",
   "name": "python3"
  },
  "language_info": {
   "codemirror_mode": {
    "name": "ipython",
    "version": 3
   },
   "file_extension": ".py",
   "mimetype": "text/x-python",
   "name": "python",
   "nbconvert_exporter": "python",
   "pygments_lexer": "ipython3",
   "version": "3.7.12"
  },
  "papermill": {
   "default_parameters": {},
   "duration": 11.309195,
   "end_time": "2022-05-26T15:41:51.817871",
   "environment_variables": {},
   "exception": null,
   "input_path": "__notebook__.ipynb",
   "output_path": "__notebook__.ipynb",
   "parameters": {},
   "start_time": "2022-05-26T15:41:40.508676",
   "version": "2.3.4"
  }
 },
 "nbformat": 4,
 "nbformat_minor": 5
}
