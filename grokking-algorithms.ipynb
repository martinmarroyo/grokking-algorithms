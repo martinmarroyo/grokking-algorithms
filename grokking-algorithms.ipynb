{
 "cells": [
  {
   "cell_type": "code",
   "execution_count": 1,
   "id": "b76cff5b",
   "metadata": {
    "_cell_guid": "b1076dfc-b9ad-4769-8c92-a6c4dae69d19",
    "_uuid": "8f2839f25d086af736a60e9eeb907d3b93b6e0e5",
    "execution": {
     "iopub.execute_input": "2022-05-27T21:40:22.028651Z",
     "iopub.status.busy": "2022-05-27T21:40:22.028096Z",
     "iopub.status.idle": "2022-05-27T21:40:22.042190Z",
     "shell.execute_reply": "2022-05-27T21:40:22.041116Z"
    },
    "papermill": {
     "duration": 0.025636,
     "end_time": "2022-05-27T21:40:22.045082",
     "exception": false,
     "start_time": "2022-05-27T21:40:22.019446",
     "status": "completed"
    },
    "tags": []
   },
   "outputs": [],
   "source": [
    "# This Python 3 environment comes with many helpful analytics libraries installed\n",
    "# It is defined by the kaggle/python Docker image: https://github.com/kaggle/docker-python\n",
    "# For example, here's several helpful packages to load\n",
    "\n",
    "import numpy as np # linear algebra\n",
    "import pandas as pd # data processing, CSV file I/O (e.g. pd.read_csv)\n",
    "\n",
    "# Input data files are available in the read-only \"../input/\" directory\n",
    "# For example, running this (by clicking run or pressing Shift+Enter) will list all files under the input directory\n",
    "\n",
    "import os\n",
    "for dirname, _, filenames in os.walk('/kaggle/input'):\n",
    "    for filename in filenames:\n",
    "        print(os.path.join(dirname, filename))\n",
    "\n",
    "# You can write up to 20GB to the current directory (/kaggle/working/) that gets preserved as output when you create a version using \"Save & Run All\" \n",
    "# You can also write temporary files to /kaggle/temp/, but they won't be saved outside of the current session"
   ]
  },
  {
   "cell_type": "markdown",
   "id": "e993c094",
   "metadata": {
    "papermill": {
     "duration": 0.004435,
     "end_time": "2022-05-27T21:40:22.057676",
     "exception": false,
     "start_time": "2022-05-27T21:40:22.053241",
     "status": "completed"
    },
    "tags": []
   },
   "source": [
    "## Binary Search"
   ]
  },
  {
   "cell_type": "code",
   "execution_count": 2,
   "id": "caebc39a",
   "metadata": {
    "execution": {
     "iopub.execute_input": "2022-05-27T21:40:22.070606Z",
     "iopub.status.busy": "2022-05-27T21:40:22.069777Z",
     "iopub.status.idle": "2022-05-27T21:40:22.079089Z",
     "shell.execute_reply": "2022-05-27T21:40:22.077768Z"
    },
    "papermill": {
     "duration": 0.019319,
     "end_time": "2022-05-27T21:40:22.082054",
     "exception": false,
     "start_time": "2022-05-27T21:40:22.062735",
     "status": "completed"
    },
    "tags": []
   },
   "outputs": [],
   "source": [
    "def binary_search(arr, item):\n",
    "    \"\"\"\n",
    "    Performs a binary search on the given\n",
    "    array and returns the position where it was found\n",
    "    O(log n) runtime\n",
    "    \"\"\"\n",
    "    arr = sorted(arr)\n",
    "    low, high = (0,len(arr)-1)\n",
    "    while low <= high:\n",
    "        mid = low + high\n",
    "        if arr[mid] == item:\n",
    "            return mid\n",
    "        if arr[mid] < item:\n",
    "            low = mid+1\n",
    "        else:\n",
    "            high = mid-1\n",
    "    return None"
   ]
  },
  {
   "cell_type": "code",
   "execution_count": 3,
   "id": "a124e94a",
   "metadata": {
    "execution": {
     "iopub.execute_input": "2022-05-27T21:40:22.094095Z",
     "iopub.status.busy": "2022-05-27T21:40:22.093473Z",
     "iopub.status.idle": "2022-05-27T21:40:22.098384Z",
     "shell.execute_reply": "2022-05-27T21:40:22.097803Z"
    },
    "papermill": {
     "duration": 0.012617,
     "end_time": "2022-05-27T21:40:22.100197",
     "exception": false,
     "start_time": "2022-05-27T21:40:22.087580",
     "status": "completed"
    },
    "tags": []
   },
   "outputs": [],
   "source": [
    "# Test\n",
    "assert binary_search([3,2,1,4],2) == 1 # Returning the position of where we found the item\n",
    "assert binary_search([1,2,3,4],5) == None"
   ]
  },
  {
   "cell_type": "markdown",
   "id": "bac5eef7",
   "metadata": {
    "papermill": {
     "duration": 0.004408,
     "end_time": "2022-05-27T21:40:22.109428",
     "exception": false,
     "start_time": "2022-05-27T21:40:22.105020",
     "status": "completed"
    },
    "tags": []
   },
   "source": [
    "## Selection Sort"
   ]
  },
  {
   "cell_type": "code",
   "execution_count": 4,
   "id": "a36f9110",
   "metadata": {
    "execution": {
     "iopub.execute_input": "2022-05-27T21:40:22.120666Z",
     "iopub.status.busy": "2022-05-27T21:40:22.120054Z",
     "iopub.status.idle": "2022-05-27T21:40:22.126879Z",
     "shell.execute_reply": "2022-05-27T21:40:22.126284Z"
    },
    "papermill": {
     "duration": 0.014555,
     "end_time": "2022-05-27T21:40:22.128662",
     "exception": false,
     "start_time": "2022-05-27T21:40:22.114107",
     "status": "completed"
    },
    "tags": []
   },
   "outputs": [],
   "source": [
    "def selection_sort(arr):\n",
    "    \"\"\"\n",
    "    Sorts the given array in ascending order\n",
    "    using the Selection Sort algorithm \n",
    "    O(n^2) runtime\n",
    "    \"\"\"\n",
    "    input_array = arr\n",
    "    sorted_array = []\n",
    "    for elem in range(0,len(input_array)):\n",
    "        smallest = find_min(input_array)\n",
    "        sorted_array.append(input_array.pop(smallest))\n",
    "    return sorted_array\n",
    "        \n",
    "    \n",
    "def find_min(arr):\n",
    "    smallest = arr[0]\n",
    "    idx = 0\n",
    "    for i,elem in enumerate(arr):\n",
    "        if elem < smallest:\n",
    "            smallest = elem\n",
    "            idx = i\n",
    "    return idx"
   ]
  },
  {
   "cell_type": "code",
   "execution_count": 5,
   "id": "45a88590",
   "metadata": {
    "execution": {
     "iopub.execute_input": "2022-05-27T21:40:22.139558Z",
     "iopub.status.busy": "2022-05-27T21:40:22.139067Z",
     "iopub.status.idle": "2022-05-27T21:40:22.144208Z",
     "shell.execute_reply": "2022-05-27T21:40:22.143419Z"
    },
    "papermill": {
     "duration": 0.012645,
     "end_time": "2022-05-27T21:40:22.146051",
     "exception": false,
     "start_time": "2022-05-27T21:40:22.133406",
     "status": "completed"
    },
    "tags": []
   },
   "outputs": [],
   "source": [
    "assert selection_sort([3,2,1,4]) == [1,2,3,4]\n",
    "assert find_min([3,2,1,4]) == 2\n",
    "assert find_min([3,1,2]) == 1"
   ]
  },
  {
   "cell_type": "markdown",
   "id": "9f547952",
   "metadata": {
    "papermill": {
     "duration": 0.004575,
     "end_time": "2022-05-27T21:40:22.155567",
     "exception": false,
     "start_time": "2022-05-27T21:40:22.150992",
     "status": "completed"
    },
    "tags": []
   },
   "source": [
    "## Recursion"
   ]
  },
  {
   "cell_type": "code",
   "execution_count": 6,
   "id": "d8bf9811",
   "metadata": {
    "execution": {
     "iopub.execute_input": "2022-05-27T21:40:22.166744Z",
     "iopub.status.busy": "2022-05-27T21:40:22.166404Z",
     "iopub.status.idle": "2022-05-27T21:40:22.175275Z",
     "shell.execute_reply": "2022-05-27T21:40:22.174199Z"
    },
    "papermill": {
     "duration": 0.016852,
     "end_time": "2022-05-27T21:40:22.177115",
     "exception": false,
     "start_time": "2022-05-27T21:40:22.160263",
     "status": "completed"
    },
    "tags": []
   },
   "outputs": [],
   "source": [
    "def countdown(n):\n",
    "    if n == 0:\n",
    "        print(\"Blast-off!\")\n",
    "    else:\n",
    "        print(n)\n",
    "        countdown(n-1)\n",
    "        \n",
    "def fibonnaci(n):\n",
    "    if n == 0:\n",
    "        return 0\n",
    "    if n == 1:\n",
    "        return 1\n",
    "    return fibonnaci(n-1) + fibonnaci(n-2)\n",
    "\n",
    "def my_sum(arr:list):\n",
    "    if len(arr) == 0:\n",
    "        return 0\n",
    "    if len(arr) == 1:\n",
    "        return arr[0]\n",
    "    return arr[0] + my_sum(arr[1:])\n",
    "\n",
    "def my_max(arr:list):\n",
    "    if len(arr) == 0:\n",
    "        return 0\n",
    "    if len(arr) == 1:\n",
    "        return arr[0]\n",
    "    if arr[0] > my_max(arr[1:]):\n",
    "        return arr[0]\n",
    "    return my_max(arr[1:])"
   ]
  },
  {
   "cell_type": "code",
   "execution_count": 7,
   "id": "2795a080",
   "metadata": {
    "execution": {
     "iopub.execute_input": "2022-05-27T21:40:22.188470Z",
     "iopub.status.busy": "2022-05-27T21:40:22.187855Z",
     "iopub.status.idle": "2022-05-27T21:40:22.196364Z",
     "shell.execute_reply": "2022-05-27T21:40:22.195735Z"
    },
    "papermill": {
     "duration": 0.017381,
     "end_time": "2022-05-27T21:40:22.199326",
     "exception": false,
     "start_time": "2022-05-27T21:40:22.181945",
     "status": "completed"
    },
    "tags": []
   },
   "outputs": [
    {
     "name": "stdout",
     "output_type": "stream",
     "text": [
      "10\n",
      "9\n",
      "8\n",
      "7\n",
      "6\n",
      "5\n",
      "4\n",
      "3\n",
      "2\n",
      "1\n",
      "Blast-off!\n"
     ]
    }
   ],
   "source": [
    "assert fibonnaci(0) == 0\n",
    "assert fibonnaci(1) == 1\n",
    "assert fibonnaci(2) == 1\n",
    "assert fibonnaci(3) == 2\n",
    "assert fibonnaci(4) == 3\n",
    "assert fibonnaci(5) == 5\n",
    "assert fibonnaci(6) == 8\n",
    "assert my_sum([1,2,3]) == 6\n",
    "assert my_sum([1]) == 1\n",
    "assert my_sum([]) == 0\n",
    "assert my_max([1,2,3]) == 3\n",
    "assert my_max([3,2,1]) == 3\n",
    "assert my_max([2,3,1]) == 3\n",
    "assert my_max([2,1]) == 2\n",
    "assert my_max([1]) == 1\n",
    "assert my_max([]) == 0\n",
    "countdown(10)"
   ]
  },
  {
   "cell_type": "markdown",
   "id": "eda21d84",
   "metadata": {
    "papermill": {
     "duration": 0.004794,
     "end_time": "2022-05-27T21:40:22.209207",
     "exception": false,
     "start_time": "2022-05-27T21:40:22.204413",
     "status": "completed"
    },
    "tags": []
   },
   "source": []
  },
  {
   "cell_type": "markdown",
   "id": "cbc137ec",
   "metadata": {
    "papermill": {
     "duration": 0.00474,
     "end_time": "2022-05-27T21:40:22.218859",
     "exception": false,
     "start_time": "2022-05-27T21:40:22.214119",
     "status": "completed"
    },
    "tags": []
   },
   "source": [
    "## Quicksort"
   ]
  },
  {
   "cell_type": "code",
   "execution_count": 8,
   "id": "2763e185",
   "metadata": {
    "execution": {
     "iopub.execute_input": "2022-05-27T21:40:22.230897Z",
     "iopub.status.busy": "2022-05-27T21:40:22.230353Z",
     "iopub.status.idle": "2022-05-27T21:40:22.236801Z",
     "shell.execute_reply": "2022-05-27T21:40:22.236120Z"
    },
    "papermill": {
     "duration": 0.014727,
     "end_time": "2022-05-27T21:40:22.238722",
     "exception": false,
     "start_time": "2022-05-27T21:40:22.223995",
     "status": "completed"
    },
    "tags": []
   },
   "outputs": [],
   "source": [
    "def quicksort(arr):\n",
    "    \"\"\"\n",
    "    Sorts the given array in ascending order\n",
    "    using the Quicksort algorithm.\n",
    "    O(n log n) runtime \n",
    "    \"\"\"\n",
    "    arr_len = len(arr)\n",
    "    if arr_len < 2:\n",
    "        return arr\n",
    "    if arr_len == 2:\n",
    "        if arr[0] < arr[1]:\n",
    "            return arr\n",
    "        return arr[::-1]\n",
    "    pivot = arr[arr_len // 2]\n",
    "    left = [elem for elem in arr if elem < pivot]\n",
    "    right = [elem for elem in arr if elem > pivot]\n",
    "    return quicksort(left) + \\\n",
    "           [pivot] + quicksort(right)\n"
   ]
  },
  {
   "cell_type": "code",
   "execution_count": 9,
   "id": "aacae869",
   "metadata": {
    "execution": {
     "iopub.execute_input": "2022-05-27T21:40:22.250585Z",
     "iopub.status.busy": "2022-05-27T21:40:22.250244Z",
     "iopub.status.idle": "2022-05-27T21:40:22.256834Z",
     "shell.execute_reply": "2022-05-27T21:40:22.255898Z"
    },
    "papermill": {
     "duration": 0.014807,
     "end_time": "2022-05-27T21:40:22.258754",
     "exception": false,
     "start_time": "2022-05-27T21:40:22.243947",
     "status": "completed"
    },
    "tags": []
   },
   "outputs": [],
   "source": [
    "assert quicksort([3,2,1,4]) == [1,2,3,4]\n",
    "assert quicksort([1,10,9,6,7,5,3,2,4,8]) == [1,2,3,4,5,6,7,8,9,10]\n",
    "assert quicksort([1,2]) == [1,2]\n",
    "assert quicksort([1]) == [1]\n",
    "assert quicksort([]) == []"
   ]
  },
  {
   "cell_type": "markdown",
   "id": "2940a2de",
   "metadata": {
    "papermill": {
     "duration": 0.00483,
     "end_time": "2022-05-27T21:40:22.268896",
     "exception": false,
     "start_time": "2022-05-27T21:40:22.264066",
     "status": "completed"
    },
    "tags": []
   },
   "source": [
    "## Breadth First Search (BFS)"
   ]
  },
  {
   "cell_type": "code",
   "execution_count": 10,
   "id": "75a82101",
   "metadata": {
    "execution": {
     "iopub.execute_input": "2022-05-27T21:40:22.280971Z",
     "iopub.status.busy": "2022-05-27T21:40:22.280285Z",
     "iopub.status.idle": "2022-05-27T21:40:22.291572Z",
     "shell.execute_reply": "2022-05-27T21:40:22.290907Z"
    },
    "papermill": {
     "duration": 0.019687,
     "end_time": "2022-05-27T21:40:22.293603",
     "exception": false,
     "start_time": "2022-05-27T21:40:22.273916",
     "status": "completed"
    },
    "tags": []
   },
   "outputs": [],
   "source": [
    "coop = {\n",
    "    \"Martin\": [\"Yoana\", \"Jasmine\", \"Veronika\", \"Maritza\"],\n",
    "    \"Veronika\": [\"Yoana\", \"Jasmine\", \"Martin\", \"Maritza\"],\n",
    "    \"Maritza\": [\"Headquarters\",\"Yoana\", \"Jasmine\", \"Veronika\",\"Martin\",\"Jamin\",\"Chris\"],\n",
    "    \"Jasmine\": [\"Yoana\", \"Veronika\", \"Martin\", \"Maritza\"],\n",
    "    \"Yoana\": [\"Jasmine\", \"Veronika\", \"Martin\", \"Maritza\"],\n",
    "    \"Headquarters\": [\"Maritza\", \"Chris\", \"Jamin\"],\n",
    "    \"Jamin\": [\"Maritza\", \"Chris\", \"Headquarters\"],\n",
    "    \"Chris\": [\"Maritza\", \"Jamin\", \"Headquarters\"]\n",
    "}\n",
    "\n",
    "cg = {\n",
    "    \"Martin\": [\"Oren\", \"Subrina\"],\n",
    "    \"Oren\": [\"Aaron\", \"Justin\",\"Subrina\",\"Martin\"],\n",
    "    \"Aaron\": [\"Oren\", \"Justin\",\"Haley\"],\n",
    "    \"Subrina\": [\"Oren\", \"Martin\"],\n",
    "    \"Justin\": [\"Aaron\", \"Oren\", \"Jeff\"],\n",
    "    \"Haley\": [\"Aaron\", \"Jeff\"],\n",
    "    \"Jeff\": [\"Haley\", \"Justin\", \"Stephen\"],\n",
    "    \"Jack\": [],\n",
    "    \"Stephen\": [\"Jeff\"]\n",
    "}\n",
    "# Is there a connection between start node and target? If yes, which node is the closest mutual connection\n",
    "def graph_bfs(graph:dict, start_node:str, target:str):\n",
    "    \"\"\"\n",
    "    Breadth First traversal of a graph\n",
    "    \"\"\"\n",
    "    search_queue = graph[start_node].copy()\n",
    "    checked = [start_node]\n",
    "    while search_queue:\n",
    "        person = search_queue.pop(0)\n",
    "        # Check if target is any of the connected nodes\n",
    "        if target in search_queue:\n",
    "            return (True, checked[len(checked)-1]) # If yes, return the last checked node\n",
    "        # Otherwise, add their friends to the search and keep going\n",
    "        if person not in checked:\n",
    "            search_queue += graph[person] # Add their friends to check their list\n",
    "            checked.append(person)\n",
    "    return (False, -1)\n",
    "            "
   ]
  },
  {
   "cell_type": "code",
   "execution_count": 11,
   "id": "c93668f2",
   "metadata": {
    "execution": {
     "iopub.execute_input": "2022-05-27T21:40:22.306152Z",
     "iopub.status.busy": "2022-05-27T21:40:22.305491Z",
     "iopub.status.idle": "2022-05-27T21:40:22.311871Z",
     "shell.execute_reply": "2022-05-27T21:40:22.311232Z"
    },
    "papermill": {
     "duration": 0.014953,
     "end_time": "2022-05-27T21:40:22.313743",
     "exception": false,
     "start_time": "2022-05-27T21:40:22.298790",
     "status": "completed"
    },
    "tags": []
   },
   "outputs": [],
   "source": [
    "assert graph_bfs(coop, \"Martin\", \"Veronika\") == (True, \"Martin\")\n",
    "assert graph_bfs(coop, \"Martin\", \"Headquarters\") == (True, \"Maritza\")\n",
    "assert graph_bfs(coop, \"Martin\", \"Maritza\") == (True, \"Martin\")\n",
    "assert graph_bfs(coop, \"Martin\", \"Not in Graph\") == (False, -1)\n",
    "assert graph_bfs(cg,\"Martin\", \"Aaron\") == (True, \"Oren\")\n",
    "assert graph_bfs(cg,\"Martin\", \"Jack\") == (False, -1)"
   ]
  },
  {
   "cell_type": "code",
   "execution_count": 12,
   "id": "7bb1ad68",
   "metadata": {
    "execution": {
     "iopub.execute_input": "2022-05-27T21:40:22.325870Z",
     "iopub.status.busy": "2022-05-27T21:40:22.325230Z",
     "iopub.status.idle": "2022-05-27T21:40:22.333557Z",
     "shell.execute_reply": "2022-05-27T21:40:22.332699Z"
    },
    "papermill": {
     "duration": 0.016624,
     "end_time": "2022-05-27T21:40:22.335438",
     "exception": false,
     "start_time": "2022-05-27T21:40:22.318814",
     "status": "completed"
    },
    "tags": []
   },
   "outputs": [
    {
     "data": {
      "text/plain": [
       "(False, -1)"
      ]
     },
     "execution_count": 12,
     "metadata": {},
     "output_type": "execute_result"
    }
   ],
   "source": [
    "graph_bfs(cg, \"Martin\", \"Jack\")"
   ]
  }
 ],
 "metadata": {
  "kernelspec": {
   "display_name": "Python 3",
   "language": "python",
   "name": "python3"
  },
  "language_info": {
   "codemirror_mode": {
    "name": "ipython",
    "version": 3
   },
   "file_extension": ".py",
   "mimetype": "text/x-python",
   "name": "python",
   "nbconvert_exporter": "python",
   "pygments_lexer": "ipython3",
   "version": "3.7.12"
  },
  "papermill": {
   "default_parameters": {},
   "duration": 10.657092,
   "end_time": "2022-05-27T21:40:22.960254",
   "environment_variables": {},
   "exception": null,
   "input_path": "__notebook__.ipynb",
   "output_path": "__notebook__.ipynb",
   "parameters": {},
   "start_time": "2022-05-27T21:40:12.303162",
   "version": "2.3.4"
  }
 },
 "nbformat": 4,
 "nbformat_minor": 5
}
